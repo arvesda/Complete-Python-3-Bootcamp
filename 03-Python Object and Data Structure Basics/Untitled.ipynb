{
 "cells": [
  {
   "cell_type": "markdown",
   "id": "75c12014",
   "metadata": {},
   "source": [
    "# Variable typing\n",
    "\n",
    "* Pros\n",
    "    * Easy to work with\n",
    "    * Faster development time\n",
    "* Cons\n",
    "    * May result in bugs for unexpected data types\n",
    "    * Need to be aware of `type()`"
   ]
  },
  {
   "cell_type": "code",
   "execution_count": null,
   "id": "f7ca8f78",
   "metadata": {},
   "outputs": [],
   "source": []
  }
 ],
 "metadata": {
  "kernelspec": {
   "display_name": "Python 3",
   "language": "python",
   "name": "python3"
  },
  "language_info": {
   "codemirror_mode": {
    "name": "ipython",
    "version": 3
   },
   "file_extension": ".py",
   "mimetype": "text/x-python",
   "name": "python",
   "nbconvert_exporter": "python",
   "pygments_lexer": "ipython3",
   "version": "3.9.5"
  }
 },
 "nbformat": 4,
 "nbformat_minor": 5
}
