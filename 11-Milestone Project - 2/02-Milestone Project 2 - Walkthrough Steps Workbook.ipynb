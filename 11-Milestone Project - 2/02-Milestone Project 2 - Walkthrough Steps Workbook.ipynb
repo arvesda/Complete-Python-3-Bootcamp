{
 "cells": [
  {
   "attachments": {},
   "cell_type": "markdown",
   "metadata": {},
   "source": [
    "___\n",
    "\n",
    "<a href='https://www.udemy.com/user/joseportilla/'><img src='../Pierian_Data_Logo.png'/></a>\n",
    "___\n",
    "<center><em>Content Copyright by Pierian Data</em></center>"
   ]
  },
  {
   "attachments": {},
   "cell_type": "markdown",
   "metadata": {
    "collapsed": true
   },
   "source": [
    "# Milestone Project 2 - Walkthrough Steps Workbook\n",
    "Below is a set of steps for you to follow to try to create the Blackjack Milestone Project game!"
   ]
  },
  {
   "attachments": {},
   "cell_type": "markdown",
   "metadata": {},
   "source": [
    "## Game Play\n",
    "To play a hand of Blackjack the following steps must be followed:\n",
    "1. Create a deck of 52 cards\n",
    "2. Shuffle the deck\n",
    "3. Ask the Player for their bet\n",
    "4. Make sure that the Player's bet does not exceed their available chips\n",
    "5. Deal two cards to the Dealer and two cards to the Player\n",
    "6. Show only one of the Dealer's cards, the other remains hidden\n",
    "7. Show both of the Player's cards\n",
    "8. Ask the Player if they wish to Hit, and take another card\n",
    "9. If the Player's hand doesn't Bust (go over 21), ask if they'd like to Hit again.\n",
    "10. If a Player Stands, play the Dealer's hand. The dealer will always Hit until the Dealer's value meets or exceeds 17\n",
    "11. Determine the winner and adjust the Player's chips accordingly\n",
    "12. Ask the Player if they'd like to play again"
   ]
  },
  {
   "attachments": {},
   "cell_type": "markdown",
   "metadata": {},
   "source": [
    "## Playing Cards\n",
    "A standard deck of playing cards has four suits (Hearts, Diamonds, Spades and Clubs) and thirteen ranks (2 through 10, then the face cards Jack, Queen, King and Ace) for a total of 52 cards per deck. Jacks, Queens and Kings all have a rank of 10. Aces have a rank of either 11 or 1 as needed to reach 21 without busting. As a starting point in your program, you may want to assign variables to store a list of suits, ranks, and then use a dictionary to map ranks to values."
   ]
  },
  {
   "attachments": {},
   "cell_type": "markdown",
   "metadata": {},
   "source": [
    "## The Game\n",
    "### Imports and Global Variables\n",
    "\n",
    "**Step 1: Define global variables**\n",
    "\n",
    "Import the `random` module. This will be used to shuffle the deck prior to dealing. Then, declare variables to store suits, ranks and values. You can develop your own system, or copy ours below. Finally, declare a Boolean value to be used to control `while` loops. This is a common practice used to control the flow of the game.\n",
    "\n",
    "    suits = ('Hearts', 'Diamonds', 'Spades', 'Clubs')\n",
    "    ranks = ('Two', 'Three', 'Four', 'Five', 'Six', 'Seven', 'Eight', 'Nine', 'Ten', 'Jack', 'Queen', 'King', 'Ace')\n",
    "    values = {'Two':2, 'Three':3, 'Four':4, 'Five':5, 'Six':6, 'Seven':7, 'Eight':8, 'Nine':9, 'Ten':10, 'Jack':10, 'Queen':10, 'King':10, 'Ace':11}"
   ]
  },
  {
   "cell_type": "code",
   "execution_count": 2,
   "metadata": {
    "collapsed": true
   },
   "outputs": [],
   "source": [
    "# We'll use this later\n",
    "import random \n",
    "\n",
    "suits = ('Hearts', 'Diamonds', 'Spades', 'Clubs')\n",
    "ranks = ('Two', 'Three', 'Four', 'Five', 'Six', 'Seven', 'Eight', 'Nine', 'Ten', 'Jack', 'Queen', 'King', 'Ace')\n",
    "values = {'Two':2, 'Three':3, 'Four':4, 'Five':5, 'Six':6, 'Seven':7, 'Eight':8, 'Nine':9, 'Ten':10, 'Jack':10, 'Queen':10, 'King':10, 'Ace':11}\n",
    "\n",
    "playing = True"
   ]
  },
  {
   "attachments": {},
   "cell_type": "markdown",
   "metadata": {},
   "source": [
    "### Class Definitions\n",
    "Consider making a `Card` class where each `Card` object has a suit and a rank, then a `Deck` class to hold all 52 `Card` objects, and can be shuffled, and finally a `Hand` class that holds those `Cards` that have been dealt to each player from the `Deck`."
   ]
  },
  {
   "attachments": {},
   "cell_type": "markdown",
   "metadata": {},
   "source": [
    "**Step 2: Create a `Card` Class**\n",
    "\n",
    "A `Card` object really only needs two attributes: suit and rank. You might add an attribute for \"value\" - we chose to handle value later when developing our `Hand` class.\n",
    "\n",
    "In addition to the `Card`'s `__init__` method, consider adding a `__str__` method that, when asked to print a `Card`, returns a string in the form \"Two of Hearts\""
   ]
  },
  {
   "cell_type": "code",
   "execution_count": 3,
   "metadata": {
    "collapsed": true
   },
   "outputs": [],
   "source": [
    "class Card:\n",
    "    \n",
    "    def __init__(self,suit,rank):\n",
    "        self.suit = suit\n",
    "        self.rank = rank\n",
    "        self.value = values[rank]\n",
    "    \n",
    "    def __str__(self):\n",
    "        return self.rank + \" of \" + self.suit"
   ]
  },
  {
   "cell_type": "code",
   "execution_count": 4,
   "metadata": {},
   "outputs": [],
   "source": [
    "two_hearts = Card(\"Hearts\",\"Two\")"
   ]
  },
  {
   "cell_type": "code",
   "execution_count": 5,
   "metadata": {},
   "outputs": [
    {
     "name": "stdout",
     "output_type": "stream",
     "text": [
      "Two of Hearts\n"
     ]
    }
   ],
   "source": [
    "print (two_hearts)"
   ]
  },
  {
   "cell_type": "code",
   "execution_count": 6,
   "metadata": {},
   "outputs": [],
   "source": [
    "del two_hearts"
   ]
  },
  {
   "attachments": {},
   "cell_type": "markdown",
   "metadata": {},
   "source": [
    "**Step 3: Create a `Deck` Class**\n",
    "\n",
    "Here we might store 52 card objects in a list that can later be shuffled. First, though, we need to *instantiate* all 52 unique card objects and add them to our list. So long as the `Card` class definition appears in our code, we can build `Card` objects inside our Deck `__init__` method. Consider iterating over sequences of suits and ranks to build out each card. This might appear inside a `Deck` class `__init__` method:\n",
    "\n",
    "    for suit in suits:\n",
    "        for rank in ranks:\n",
    "\n",
    "In addition to an `__init__` method we'll want to add methods to shuffle our deck, and to deal out cards during gameplay.\n",
    "\n",
    "OPTIONAL: We may never need to print the contents of the deck during gameplay, but having the ability to see the cards inside it may help troubleshoot any problems that occur during development. With this in mind, consider adding a `__str__` method to the class definition."
   ]
  },
  {
   "cell_type": "code",
   "execution_count": 7,
   "metadata": {
    "collapsed": true
   },
   "outputs": [],
   "source": [
    "class Deck:\n",
    "    \n",
    "    def __init__(self):\n",
    "        self.deck = []  # start with an empty list\n",
    "        for suit in suits:\n",
    "            for rank in ranks:\n",
    "                self.deck.append(Card(suit,rank))\n",
    "    \n",
    "    def __str__(self):\n",
    "        new_deck = ''\n",
    "        for card in self.deck:\n",
    "            new_deck += '\\n' + card.__str__()\n",
    "        return new_deck\n",
    "\n",
    "    def shuffle(self):\n",
    "        random.shuffle(self.deck)\n",
    "        \n",
    "    def deal(self):\n",
    "        return self.deck.pop()"
   ]
  },
  {
   "attachments": {},
   "cell_type": "markdown",
   "metadata": {},
   "source": [
    "TESTING: Just to see that everything works so far, let's see what our `Deck` looks like!"
   ]
  },
  {
   "cell_type": "code",
   "execution_count": 9,
   "metadata": {
    "collapsed": true
   },
   "outputs": [
    {
     "name": "stdout",
     "output_type": "stream",
     "text": [
      "Seven of Spades\n",
      "\n",
      "Four of Clubs\n",
      "Four of Hearts\n",
      "Jack of Diamonds\n",
      "Nine of Diamonds\n",
      "Three of Spades\n",
      "Ten of Clubs\n",
      "Six of Hearts\n",
      "Eight of Clubs\n",
      "Nine of Hearts\n",
      "Ace of Hearts\n",
      "Ten of Spades\n",
      "Queen of Diamonds\n",
      "King of Hearts\n",
      "Ace of Diamonds\n",
      "King of Clubs\n",
      "Ten of Hearts\n",
      "Two of Spades\n",
      "Four of Diamonds\n",
      "Two of Diamonds\n",
      "Jack of Hearts\n",
      "Queen of Hearts\n",
      "King of Diamonds\n",
      "Five of Diamonds\n",
      "Three of Clubs\n",
      "Seven of Hearts\n",
      "Ace of Spades\n",
      "Three of Diamonds\n",
      "Three of Hearts\n",
      "Queen of Spades\n",
      "Ten of Diamonds\n",
      "Five of Clubs\n",
      "Six of Clubs\n",
      "Four of Spades\n",
      "Queen of Clubs\n",
      "Seven of Clubs\n",
      "Nine of Clubs\n",
      "Two of Hearts\n",
      "Five of Spades\n",
      "Eight of Hearts\n",
      "Jack of Spades\n",
      "Seven of Diamonds\n",
      "Eight of Diamonds\n",
      "Nine of Spades\n",
      "Two of Clubs\n",
      "Jack of Clubs\n",
      "Six of Diamonds\n",
      "Six of Spades\n",
      "Ace of Clubs\n",
      "King of Spades\n",
      "Eight of Spades\n",
      "Five of Hearts\n"
     ]
    }
   ],
   "source": [
    "test_deck = Deck()\n",
    "test_deck.shuffle()\n",
    "\n",
    "newcard = test_deck.deal()\n",
    "print(newcard)\n",
    "print(test_deck)"
   ]
  },
  {
   "cell_type": "code",
   "execution_count": 28,
   "metadata": {},
   "outputs": [],
   "source": [
    "del newcard\n",
    "del test_deck"
   ]
  },
  {
   "attachments": {},
   "cell_type": "markdown",
   "metadata": {},
   "source": [
    "Great! Now let's move on to our `Hand` class."
   ]
  },
  {
   "attachments": {},
   "cell_type": "markdown",
   "metadata": {},
   "source": [
    "**Step 4: Create a `Hand` Class**\n",
    "\n",
    "In addition to holding `Card` objects dealt from the `Deck`, the `Hand` class may be used to calculate the value of those cards using the values dictionary defined above. It may also need to adjust for the value of Aces when appropriate."
   ]
  },
  {
   "cell_type": "code",
   "execution_count": 31,
   "metadata": {
    "collapsed": true
   },
   "outputs": [],
   "source": [
    "class Hand:\n",
    "    def __init__(self):\n",
    "        self.cards = []  # start with an empty list as we did in the Deck class\n",
    "        self.value = 0   # start with zero value\n",
    "        self.aces = 0    # add an attribute to keep track of aces\n",
    "    \n",
    "    def add_card(self,card):\n",
    "        # card passed in here from Deck\n",
    "        # will call deal() off the Deck\n",
    "        # deck.deal() --> single Card(suit,rank) object\n",
    "        self.cards.append(card)\n",
    "        self.value += values[card.rank] # append\n",
    "        if card.rank == 'Ace':\n",
    "            self.aces += 1\n",
    "    \n",
    "    def adjust_for_ace(self):\n",
    "        # If the total value > 21 AND I still have an ace\n",
    "        # Adjust the value of the ace to be 1 instead of 11\n",
    "        while self.value > 21 and self.aces:\n",
    "            # subtract *10* because the new value is now 1\n",
    "            # (could subtract 11 and then add 1)\n",
    "            self.value -= 10\n",
    "            self.aces -= 1"
   ]
  },
  {
   "cell_type": "code",
   "execution_count": 33,
   "metadata": {},
   "outputs": [
    {
     "name": "stdout",
     "output_type": "stream",
     "text": [
      "Two of Clubs\n",
      "2\n"
     ]
    }
   ],
   "source": [
    "test_deck = Deck()\n",
    "test_deck.shuffle()\n",
    "test_player = Hand()\n",
    "# Deal one card from the deck CARD(suit,rank)\n",
    "pulled_card = test_deck.deal()\n",
    "print(pulled_card)\n",
    "test_player.add_card(pulled_card)\n",
    "print(test_player.value)"
   ]
  },
  {
   "cell_type": "code",
   "execution_count": 34,
   "metadata": {},
   "outputs": [
    {
     "name": "stdout",
     "output_type": "stream",
     "text": [
      "15\n",
      "Six of Diamonds\n",
      "6\n",
      "Nine of Hearts\n",
      "9\n"
     ]
    }
   ],
   "source": [
    "test_deck = Deck()\n",
    "test_deck.shuffle()\n",
    "test_player = Hand()\n",
    "\n",
    "test_player.add_card(test_deck.deal())\n",
    "test_player.add_card(test_deck.deal())\n",
    "print (test_player.value)\n",
    "\n",
    "for card in test_player.cards:\n",
    "    print (card)\n",
    "    print (card.value)"
   ]
  },
  {
   "cell_type": "code",
   "execution_count": 22,
   "metadata": {},
   "outputs": [
    {
     "name": "stdout",
     "output_type": "stream",
     "text": [
      "17\n",
      "Nine of Spades\n",
      "9\n",
      "Eight of Diamonds\n",
      "8\n",
      "Two of Spades\n",
      "2\n",
      "19\n"
     ]
    }
   ],
   "source": [
    "print (test_player.value)\n",
    "test_player.add_card(test_deck.deal())\n",
    "test_player.adjust_for_ace()\n",
    "\n",
    "for card in test_player.cards:\n",
    "    print (card)\n",
    "    print (card.value)\n",
    "\n",
    "print (test_player.value)\n"
   ]
  },
  {
   "attachments": {},
   "cell_type": "markdown",
   "metadata": {},
   "source": [
    "**Step 5: Create a `Chips` Class**\n",
    "\n",
    "In addition to decks of cards and hands, we need to keep track of a Player's starting chips, bets, and ongoing winnings. This could be done using global variables, but in the spirit of object oriented programming, let's make a `Chips` class instead!"
   ]
  },
  {
   "cell_type": "code",
   "execution_count": 35,
   "metadata": {
    "collapsed": true
   },
   "outputs": [],
   "source": [
    "class Chips:\n",
    "    \n",
    "    def __init__(self):\n",
    "        self.total = 100  # This can be set to a default value or supplied by a user input\n",
    "        self.bet = 0\n",
    "        \n",
    "    def win_bet(self):\n",
    "        self.total += self.bet\n",
    "    \n",
    "    def lose_bet(self):\n",
    "        self.total -= self.bet"
   ]
  },
  {
   "attachments": {},
   "cell_type": "markdown",
   "metadata": {},
   "source": [
    "### Function Defintions\n",
    "A lot of steps are going to be repetitive. That's where functions come in! The following steps are guidelines - add or remove functions as needed in your own program."
   ]
  },
  {
   "attachments": {},
   "cell_type": "markdown",
   "metadata": {},
   "source": [
    "**Step 6: Write a function for taking bets**\n",
    "\n",
    "Since we're asking the user for an integer value, this would be a good place to use `try`/`except`. Remember to check that a Player's bet can be covered by their available chips."
   ]
  },
  {
   "cell_type": "code",
   "execution_count": 36,
   "metadata": {
    "collapsed": true
   },
   "outputs": [],
   "source": [
    "def take_bet(chips):\n",
    "\n",
    "    while True:\n",
    "        try:\n",
    "            chips.bet = int(input(\"Enter your bet: \"))\n",
    "        except:\n",
    "            print(\"Whoops, not a number\")\n",
    "        else:\n",
    "            if chips.bet > chips.total:\n",
    "                print(f\"Your bet cannot exceed {chips.total}.\")\n",
    "            else:\n",
    "                break"
   ]
  },
  {
   "attachments": {},
   "cell_type": "markdown",
   "metadata": {},
   "source": [
    "**Step 7: Write a function for taking hits**\n",
    "\n",
    "Either player can take hits until they bust. This function will be called during gameplay anytime a Player requests a hit, or a Dealer's hand is less than 17. It should take in `Deck` and `Hand` objects as arguments, and deal one card off the deck and add it to the Hand. You may want it to check for aces in the event that a player's hand exceeds 21."
   ]
  },
  {
   "cell_type": "code",
   "execution_count": 37,
   "metadata": {
    "collapsed": true
   },
   "outputs": [],
   "source": [
    "def hit(deck,hand):\n",
    "    hand.add_card(deck.deal())\n",
    "    hand.adjust_for_ace()"
   ]
  },
  {
   "attachments": {},
   "cell_type": "markdown",
   "metadata": {},
   "source": [
    "**Step 8: Write a function prompting the Player to Hit or Stand**\n",
    "\n",
    "This function should accept the deck and the player's hand as arguments, and assign playing as a global variable.\n",
    "\n",
    "If the Player Hits, employ the `hit()` function above. If the Player Stands, set the playing variable to False - this will control the behavior of a `while` loop later on in our code."
   ]
  },
  {
   "cell_type": "code",
   "execution_count": 43,
   "metadata": {
    "collapsed": true
   },
   "outputs": [],
   "source": [
    "def hit_or_stand(deck,hand):\n",
    "    global playing  # to control an upcoming while loop\n",
    "    \n",
    "    while True:\n",
    "        choice = input(\"Hit or stand? \")\n",
    "\n",
    "        if choice == 'h':\n",
    "            hit(deck,hand)\n",
    "        elif choice == 's':\n",
    "            playing = False\n",
    "        else:\n",
    "            print(\"Please enter again\")\n",
    "            continue\n",
    "        break"
   ]
  },
  {
   "attachments": {},
   "cell_type": "markdown",
   "metadata": {},
   "source": [
    "**Step 9: Write functions to display cards**\n",
    "\n",
    "When the game starts, and after each time Player takes a card, the dealer's first card is hidden and all of Player's cards are visible. At the end of the hand all cards are shown, and you may want to show each hand's total value. Write a function for each of these scenarios."
   ]
  },
  {
   "cell_type": "code",
   "execution_count": 38,
   "metadata": {
    "collapsed": true
   },
   "outputs": [],
   "source": [
    "def show_some(player,dealer):\n",
    "    print(\"Dealer's hand:\\n <hidden> \\n\", dealer.cards[1], \"\\t\", dealer.cards[1].value) # Dealer's first card is face down\n",
    "    print(\"\\nPlayer's hand:\")\n",
    "    for card in player.cards:    \n",
    "        print(\"\", card, \"\\t\", card.value)\n",
    "\n",
    "    # print(\"\\nDealer's value:\", dealer.cards[1].value, sep = \"\\n \")\n",
    "    # print(\"\\nPlayer's hand:\", *player.cards, \"\\t\", player.value)\n",
    "    # print(\"\\nPlayer's value:\", player.value, sep = \"\\n \")\n",
    "\n",
    "def show_all(player,dealer):\n",
    "    print(\"Dealer's hand:\")\n",
    "    for card in dealer.cards:   \n",
    "        print(\"\", card, \"\\t\", card.value)\n",
    "        \n",
    "    print(\"\\nPlayer's hand:\")\n",
    "    for card in player.cards:\n",
    "        print(\"\", card, \"\\t\", card.value)\n",
    "    \n",
    "    # print(\"Dealer's hand:\", *dealer.cards, sep = \"\\n \")\n",
    "    # print(\"\\nDealer's value:\", player.value, sep = \"\\n \")\n",
    "    # print(\"\\nPlayer's hand:\", *player.cards, sep = \"\\n \")\n",
    "    # print(\"\\nPlayer's value:\", player.value, sep = \"\\n \")"
   ]
  },
  {
   "cell_type": "code",
   "execution_count": 39,
   "metadata": {},
   "outputs": [
    {
     "name": "stdout",
     "output_type": "stream",
     "text": [
      "SHOW SOME\n",
      "Dealer's hand:\n",
      " <hidden> \n",
      " Two of Diamonds \t 2\n",
      "\n",
      "Player's hand:\n",
      " Jack of Diamonds \t 10\n",
      " Jack of Clubs \t 10\n",
      "SHOW ALL\n",
      "Dealer's hand:\n",
      " Five of Spades \t 5\n",
      " Two of Diamonds \t 2\n",
      "\n",
      "Player's hand:\n",
      " Jack of Diamonds \t 10\n",
      " Jack of Clubs \t 10\n"
     ]
    }
   ],
   "source": [
    "test_deck = Deck()\n",
    "test_deck.shuffle()\n",
    "test_player = Hand()\n",
    "test_dealer = Hand()\n",
    "\n",
    "test_player.add_card(test_deck.deal())\n",
    "test_dealer.add_card(test_deck.deal())\n",
    "test_player.add_card(test_deck.deal())\n",
    "test_dealer.add_card(test_deck.deal())\n",
    "\n",
    "#print (\"PLAYER\")\n",
    "#for card in test_player.cards:\n",
    "#    print (card)\n",
    "#    print (card.value)\n",
    "#print (test_player.value)\n",
    "\n",
    "#print (\"DEALER\")\n",
    "#for card in test_dealer.cards:\n",
    "#    print (card)\n",
    "#    print (card.value)\n",
    "#print (test_dealer.value)\n",
    "\n",
    "print(\"SHOW SOME\")\n",
    "show_some(test_player,test_dealer)\n",
    "\n",
    "print(\"SHOW ALL\")\n",
    "show_all(test_player,test_dealer)"
   ]
  },
  {
   "attachments": {},
   "cell_type": "markdown",
   "metadata": {},
   "source": [
    "**Step 10: Write functions to handle end of game scenarios**\n",
    "\n",
    "Remember to pass player's hand, dealer's hand and chips as needed."
   ]
  },
  {
   "cell_type": "code",
   "execution_count": 41,
   "metadata": {
    "collapsed": true
   },
   "outputs": [],
   "source": [
    "def player_busts(player,dealer,chips):\n",
    "    print(\"Player busts\")\n",
    "    chips.lose_bet()\n",
    "\n",
    "def player_wins(player,dealer,chips):\n",
    "    print(\"Player wins\")\n",
    "    chips.win_bet()\n",
    "\n",
    "def dealer_busts(player,dealer,chips):\n",
    "    print(\"Dealer busts\")\n",
    "    chips.win_bet()\n",
    "    \n",
    "def dealer_wins(player,dealer,chips):\n",
    "    print(\"Dealer wins\")\n",
    "    chips.lose_bet()\n",
    "    \n",
    "def tie(player,dealer):\n",
    "    print(\"Tie!\")"
   ]
  },
  {
   "attachments": {},
   "cell_type": "markdown",
   "metadata": {},
   "source": [
    "### And now on to the game!!"
   ]
  },
  {
   "cell_type": "code",
   "execution_count": 44,
   "metadata": {},
   "outputs": [
    {
     "name": "stdout",
     "output_type": "stream",
     "text": [
      "This is Blackjack!\n",
      "Dealer's hand:\n",
      " <hidden> \n",
      " Two of Diamonds \t 2\n",
      "\n",
      "Player's hand:\n",
      " Five of Spades \t 5\n",
      " Four of Spades \t 4\n",
      "Dealer's hand:\n",
      " <hidden> \n",
      " Two of Diamonds \t 2\n",
      "\n",
      "Player's hand:\n",
      " Five of Spades \t 5\n",
      " Four of Spades \t 4\n",
      " Seven of Hearts \t 7\n",
      "Dealer's hand:\n",
      " <hidden> \n",
      " Two of Diamonds \t 2\n",
      "\n",
      "Player's hand:\n",
      " Five of Spades \t 5\n",
      " Four of Spades \t 4\n",
      " Seven of Hearts \t 7\n",
      " King of Hearts \t 10\n",
      "Player busts\n",
      "You have  88 chips\n",
      "This is Blackjack!\n",
      "Dealer's hand:\n",
      " <hidden> \n",
      " Ace of Diamonds \t 11\n",
      "\n",
      "Player's hand:\n",
      " Jack of Spades \t 10\n",
      " Seven of Clubs \t 7\n",
      "Dealer's hand:\n",
      " <hidden> \n",
      " Ace of Diamonds \t 11\n",
      "\n",
      "Player's hand:\n",
      " Jack of Spades \t 10\n",
      " Seven of Clubs \t 7\n",
      " Nine of Diamonds \t 9\n",
      "Player busts\n",
      "You have  88 chips\n",
      "Thanks for playing\n"
     ]
    }
   ],
   "source": [
    "while True:\n",
    "    # print an opening statement\n",
    "    print(\"This is Blackjack!\")\n",
    "    \n",
    "    # Create & shuffle the deck, deal two cards to each player\n",
    "    deck = Deck()\n",
    "    deck.shuffle()\n",
    "    player = Hand()\n",
    "    dealer = Hand()\n",
    "\n",
    "    # Deal cards to each player\n",
    "    player.add_card(deck.deal())\n",
    "    dealer.add_card(deck.deal())\n",
    "    player.add_card(deck.deal())\n",
    "    dealer.add_card(deck.deal())\n",
    "      \n",
    "    # Set up the Player's chips\n",
    "    chips = Chips()\n",
    "    \n",
    "    # Prompt the Player for their bet\n",
    "    bet = take_bet(chips)\n",
    "    \n",
    "    # Show cards (but keep one dealer card hidden)\n",
    "    show_some(player,dealer)\n",
    "        \n",
    "    while playing:  # recall this variable from our hit_or_stand function\n",
    "        \n",
    "        # Prompt for Player to Hit or Stand\n",
    "        hit_or_stand(deck,player)\n",
    "                \n",
    "        # Show cards (but keep one dealer card hidden)\n",
    "        show_some(player,dealer)\n",
    " \n",
    "        # If player's hand exceeds 21, run player_busts() and break out of loop\n",
    "        if player.value > 21:\n",
    "            player_busts(player,dealer,chips)\n",
    "            break\n",
    "\n",
    "    # If Player hasn't busted, play Dealer's hand until Dealer reaches 17\n",
    "    if player.value <= 21:\n",
    "        while dealer.value < 17:\n",
    "            hit(deck,dealer)\n",
    "        \n",
    "        # Show all cards\n",
    "        show_all(player,dealer)\n",
    "    \n",
    "        # Run different winning scenarios\n",
    "        if dealer.value > 21:\n",
    "            dealer_busts(player,dealer,chips)\n",
    "        elif dealer.value > player.value:\n",
    "            dealer_wins(player,dealer,chips)\n",
    "        elif dealer.value < player.value:\n",
    "            player_wins(player,dealer,chips)\n",
    "        elif dealer.value == player.value:\n",
    "            tie(player,dealer)\n",
    "    \n",
    "    # Inform Player of their chips total\n",
    "    print(\"You have \",chips.total,\"chips\")\n",
    "    \n",
    "    # Ask to play again\n",
    "    again = input(\"Play again? y/n\")\n",
    "\n",
    "    if again.lower() == \"y\":\n",
    "        playing = True\n",
    "        continue\n",
    "    else:\n",
    "        playing = False\n",
    "        print(\"Thanks for playing\")\n",
    "        break"
   ]
  },
  {
   "attachments": {},
   "cell_type": "markdown",
   "metadata": {},
   "source": [
    "And that's it! Remember, these steps may differ significantly from your own solution. That's OK! Keep working on different sections of your program until you get the desired results. It takes a lot of time and patience! As always, feel free to post questions and comments to the Q&A Forums.\n",
    "# Good job!"
   ]
  }
 ],
 "metadata": {
  "kernelspec": {
   "display_name": "Python 3",
   "language": "python",
   "name": "python3"
  },
  "language_info": {
   "codemirror_mode": {
    "name": "ipython",
    "version": 3
   },
   "file_extension": ".py",
   "mimetype": "text/x-python",
   "name": "python",
   "nbconvert_exporter": "python",
   "pygments_lexer": "ipython3",
   "version": "3.11.4"
  }
 },
 "nbformat": 4,
 "nbformat_minor": 1
}
